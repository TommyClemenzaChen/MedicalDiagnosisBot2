{
 "cells": [
  {
   "cell_type": "code",
   "execution_count": null,
   "metadata": {},
   "outputs": [],
   "source": []
  },
  {
   "cell_type": "code",
   "execution_count": 22,
   "metadata": {},
   "outputs": [],
   "source": [
    "import torch\n",
    "import torch.nn as nn\n",
    "import torch.nn.functional as F\n",
    "import torch.optim as optim\n",
    "import numpy as np\n",
    "import pandas as pd\n",
    "\n"
   ]
  },
  {
   "cell_type": "code",
   "execution_count": 23,
   "metadata": {},
   "outputs": [
    {
     "name": "stdout",
     "output_type": "stream",
     "text": [
      "1200\n",
      "1200\n"
     ]
    }
   ],
   "source": [
    "#load data\n",
    "data = pd.read_csv('Symptom2Disease.csv')\n",
    "\n",
    "#seperate data into the text and label\n",
    "symptoms = data['text'].values\n",
    "diseases = data['label'].values\n",
    "\n",
    "print(len(symptoms))\n",
    "print(len(diseases))\n",
    "    \n"
   ]
  },
  {
   "cell_type": "code",
   "execution_count": 24,
   "metadata": {},
   "outputs": [
    {
     "name": "stdout",
     "output_type": "stream",
     "text": [
      "cuda:0\n"
     ]
    }
   ],
   "source": [
    "#connect to GPU\n",
    "device = torch.device(\"cuda:0\" if torch.cuda.is_available() else \"cpu\")\n",
    "print(device)"
   ]
  },
  {
   "cell_type": "code",
   "execution_count": 25,
   "metadata": {},
   "outputs": [
    {
     "name": "stderr",
     "output_type": "stream",
     "text": [
      "[nltk_data] Downloading package punkt to\n",
      "[nltk_data]     C:\\Users\\bobth\\AppData\\Roaming\\nltk_data...\n",
      "[nltk_data]   Package punkt is already up-to-date!\n",
      "[nltk_data] Downloading package stopwords to\n",
      "[nltk_data]     C:\\Users\\bobth\\AppData\\Roaming\\nltk_data...\n",
      "[nltk_data]   Package stopwords is already up-to-date!\n"
     ]
    },
    {
     "name": "stdout",
     "output_type": "stream",
     "text": [
      "['school', 'bag', 'lunch', 'books']\n",
      "\n",
      "Before: I have been experiencing a skin rash on my arms, legs, and torso for the past few weeks. It is red, itchy, and covered in dry, scaly patches.\n",
      "After: ['experiencing', 'skin', 'rash', 'arms', 'legs', 'torso', 'past', 'weeks', 'red', 'itchy', 'covered', 'dry', 'scaly', 'patches']\n"
     ]
    }
   ],
   "source": [
    "#tokenize data and pad them to equal sequences\n",
    "\n",
    "import nltk\n",
    "from nltk.tokenize import word_tokenize\n",
    "from nltk.corpus import stopwords\n",
    "\n",
    "nltk.download('punkt')\n",
    "nltk.download('stopwords')\n",
    "\n",
    "#turning it into a set suppositly makes it faster\n",
    "stopwords_set = set(stopwords.words())\n",
    "\n",
    "\n",
    "#Preprocess function will remove stopwords, punctuation, lowercase the text\n",
    "#Might add stemming and lemmatization later on\n",
    "def preprocess(text):\n",
    "\n",
    "    #lowercase\n",
    "    text = word_tokenize(text)\n",
    "\n",
    "    #remove stopwords and punctuation\n",
    "    processed_text = [word.lower() for word in text if not word.lower() in stopwords_set and word.isalpha()]\n",
    "    \n",
    "\n",
    "    return processed_text\n",
    "\n",
    "print(preprocess(\"I am going to SCHOOL. Where is my bag, lunch, and books?\"))\n",
    "print(f\"\\nBefore: {symptoms[0]}\")\n",
    "\n",
    "#preprcoess all data\n",
    "symptoms = [preprocess(text) for text in symptoms]\n",
    "\n",
    "print(f\"After: {symptoms[0]}\")\n"
   ]
  },
  {
   "cell_type": "code",
   "execution_count": 26,
   "metadata": {},
   "outputs": [
    {
     "name": "stdout",
     "output_type": "stream",
     "text": [
      "['experiencing', 'skin', 'rash', 'arms', 'legs', 'torso', 'past', 'weeks', 'red', 'itchy', 'covered', 'dry', 'scaly', 'patches']\n",
      "Encoded: [1, 2, 3, 4, 5, 6, 7, 8, 9, 10, 11, 12, 13, 14]\n"
     ]
    }
   ],
   "source": [
    "#imports\n",
    "from nltk.probability import FreqDist\n",
    "\n",
    "#Basically encoding the text\n",
    "\n",
    "#vocab creation\n",
    "word_frequency = FreqDist([word.lower() for text in symptoms for word in text])\n",
    "\n",
    "# Create the vocabulary by assigning a unique index to each word\n",
    "vocab = {word: idx+1 for idx, (word, _) in enumerate(word_frequency.items())}\n",
    "\n",
    "# encode text\n",
    "def encode(text, vocab):\n",
    "    encoded = []\n",
    "    for word in text:\n",
    "        encoded.append(vocab.get(word,0))\n",
    "    return encoded\n",
    "\n",
    "#encode all data\n",
    "print(symptoms[0])\n",
    "\n",
    "symptoms = [encode(text, vocab) for text in symptoms]\n",
    "\n",
    "\n",
    "print(f\"Encoded: {symptoms[0]}\")\n",
    "\n"
   ]
  },
  {
   "cell_type": "code",
   "execution_count": 27,
   "metadata": {},
   "outputs": [],
   "source": [
    "#pad sequences\n",
    "from torch.nn.utils.rnn import pad_sequence\n",
    "\n",
    "#pad sequences\n",
    "symptoms = pad_sequence([torch.tensor(text) for text in symptoms], batch_first=True)\n",
    "\n"
   ]
  },
  {
   "cell_type": "code",
   "execution_count": 28,
   "metadata": {},
   "outputs": [],
   "source": [
    "#encoding labels\n",
    "\n",
    "label_mapping = {label: i for i, label in enumerate(np.unique(diseases))}\n",
    "diseases = np.array([label_mapping[label] for label in diseases])\n",
    "\n"
   ]
  },
  {
   "cell_type": "code",
   "execution_count": 29,
   "metadata": {},
   "outputs": [
    {
     "name": "stdout",
     "output_type": "stream",
     "text": [
      "torch.Size([960, 25])\n",
      "torch.Size([240, 25])\n",
      "(960,)\n",
      "(240,)\n"
     ]
    }
   ],
   "source": [
    "#split data into train and test\n",
    "from sklearn.model_selection import train_test_split\n",
    "\n",
    "X_train, X_test, y_train, y_test = train_test_split(symptoms, diseases, test_size=0.2)\n",
    "\n",
    "print(X_train.shape)\n",
    "print(X_test.shape)\n",
    "print(y_train.shape)\n",
    "print(y_test.shape)\n"
   ]
  },
  {
   "cell_type": "code",
   "execution_count": 30,
   "metadata": {},
   "outputs": [
    {
     "name": "stdout",
     "output_type": "stream",
     "text": [
      "torch.int64\n",
      "int32\n",
      "training text: torch.Size([960, 25])\n",
      "training labels: torch.Size([960])\n",
      "testing text: torch.Size([240, 25])\n",
      "testing labels: torch.Size([240])\n",
      "tensor([  46,  272, 1055,  562,    2,  132,   46,   12,  507, 1056,  239,    0,\n",
      "           0,    0,    0,    0,    0,    0,    0,    0,    0,    0,    0,    0,\n",
      "           0])\n"
     ]
    },
    {
     "name": "stderr",
     "output_type": "stream",
     "text": [
      "C:\\Users\\bobth\\AppData\\Local\\Temp\\ipykernel_17580\\2028079522.py:5: UserWarning: To copy construct from a tensor, it is recommended to use sourceTensor.clone().detach() or sourceTensor.clone().detach().requires_grad_(True), rather than torch.tensor(sourceTensor).\n",
      "  X_train = torch.tensor(X_train)\n",
      "C:\\Users\\bobth\\AppData\\Local\\Temp\\ipykernel_17580\\2028079522.py:8: UserWarning: To copy construct from a tensor, it is recommended to use sourceTensor.clone().detach() or sourceTensor.clone().detach().requires_grad_(True), rather than torch.tensor(sourceTensor).\n",
      "  X_test = torch.tensor(X_test)\n"
     ]
    }
   ],
   "source": [
    "#convert to tensors\n",
    "print(X_train.dtype)\n",
    "print(y_train.dtype)\n",
    "\n",
    "X_train = torch.tensor(X_train)\n",
    "y_train = torch.tensor(y_train)\n",
    "\n",
    "X_test = torch.tensor(X_test)\n",
    "y_test = torch.tensor(y_test)\n",
    " \n",
    "print(f\"training text: {X_train.shape}\")\n",
    "print(f\"training labels: {y_train.shape}\")\n",
    "\n",
    "print(f\"testing text: {X_test.shape}\")\n",
    "print(f\"testing labels: {y_test.shape}\")\n",
    "\n",
    "print(X_train[0])\n",
    "\n"
   ]
  },
  {
   "cell_type": "code",
   "execution_count": 44,
   "metadata": {},
   "outputs": [],
   "source": [
    "#create a simple fnn model that takes in the input size\n",
    "class FNN(nn.Module):\n",
    "    def __init__(self, input_size, hidden_size, output_size):\n",
    "        super(FNN, self).__init__()\n",
    "        self.fc1 = nn.Linear(input_size, hidden_size)\n",
    "        self.fc2 = nn.Linear(hidden_size, output_size)\n",
    "        self.relu = nn.ReLU()\n",
    "        self.softmax = nn.Softmax(dim=0)\n",
    "        \n",
    "    def forward(self, x):\n",
    "        out = self.fc1(x)\n",
    "        out = self.relu(out)\n",
    "        out = self.fc2(out)\n",
    "        out = self.softmax(out)\n",
    "        return out\n",
    "    \n",
    "#rnn model\n",
    "class RNN(nn.Module):\n",
    "    def __init__(self, input_size, hidden_size, output_size):\n",
    "        super(RNN, self).__init__()\n",
    "        self.rnn = nn.RNN(input_size, hidden_size, batch_first=True)\n",
    "        self.linear = nn.Linear(hidden_size, output_size)\n",
    "        self.linear2 = nn.Linear(hidden_size, hidden_size)\n",
    "        self.softmax = nn.Softmax(dim=0)\n",
    "        self.relu = nn.ReLU()\n",
    "        \n",
    "    def forward(self, x):\n",
    "        out = self.rnn(x)[0]\n",
    "        out = self.linear2(out)\n",
    "        out = self.relu(out)\n",
    "        out = self.linear(out)\n",
    "        out = self.softmax(out)\n",
    "        return out\n",
    "    \n",
    "#LSTM model\n",
    "class LSTM(nn.Module):\n",
    "    def __init__(self, input_size, hidden_size, output_size):\n",
    "        super(LSTM, self).__init__()\n",
    "        self.lstm = nn.LSTM(input_size, hidden_size, batch_first=True)\n",
    "        self.fc = nn.Linear(hidden_size, output_size)\n",
    "        self.softmax = nn.Softmax(dim=0)\n",
    "        \n",
    "    def forward(self, x):\n",
    "        out, _ = self.lstm(x)\n",
    "        out = self.fc(out[:, -1, :])\n",
    "        out = self.softmax(out)\n",
    "        return out\n",
    "    def predict(self, x):\n",
    "        out, _ = self.lstm(x)\n",
    "        out = self.fc(out[:, -1, :])\n",
    "        out = self.softmax(out)\n",
    "        return out\n",
    "    \n",
    "    \n",
    "\n",
    "\n"
   ]
  },
  {
   "attachments": {},
   "cell_type": "markdown",
   "metadata": {},
   "source": [
    "#### 24 represents the 24 unique diseases in the data set and 25 represents to length of each encoded vector\n"
   ]
  },
  {
   "cell_type": "code",
   "execution_count": 45,
   "metadata": {},
   "outputs": [
    {
     "name": "stdout",
     "output_type": "stream",
     "text": [
      "Input size: 25\n",
      "out size: 24\n"
     ]
    }
   ],
   "source": [
    "#define hyperparameters\n",
    "learning_rate = 0.001\n",
    "epochs = 10\n",
    "\n",
    "input_size = X_train.shape[1]\n",
    "hidden_size = 20\n",
    "output_size = len(label_mapping)\n",
    "\n",
    "print(f\"Input size: {input_size}\")\n",
    "print(f\"out size: {output_size}\")\n",
    "\n",
    "\n"
   ]
  },
  {
   "cell_type": "code",
   "execution_count": 46,
   "metadata": {},
   "outputs": [
    {
     "data": {
      "text/plain": [
       "RNN(\n",
       "  (rnn): RNN(25, 20, batch_first=True)\n",
       "  (linear): Linear(in_features=20, out_features=24, bias=True)\n",
       "  (linear2): Linear(in_features=20, out_features=20, bias=True)\n",
       "  (softmax): Softmax(dim=0)\n",
       "  (relu): ReLU()\n",
       ")"
      ]
     },
     "execution_count": 46,
     "metadata": {},
     "output_type": "execute_result"
    }
   ],
   "source": [
    "model_num = 1\n",
    "model = None\n",
    "if(model_num == 0):\n",
    "    model = FNN(input_size, hidden_size, output_size)\n",
    "\n",
    "elif(model_num == 1):\n",
    "    #Reshape for RNN\n",
    "    model = RNN(input_size, hidden_size, output_size)\n",
    "\n",
    "\n",
    "model.to(device)"
   ]
  },
  {
   "cell_type": "code",
   "execution_count": 47,
   "metadata": {},
   "outputs": [],
   "source": [
    "criterion = nn.CrossEntropyLoss()\n",
    "optimizer = optim.Adam(model.parameters(), lr=learning_rate)"
   ]
  },
  {
   "attachments": {},
   "cell_type": "markdown",
   "metadata": {},
   "source": []
  },
  {
   "cell_type": "code",
   "execution_count": 48,
   "metadata": {},
   "outputs": [
    {
     "name": "stdout",
     "output_type": "stream",
     "text": [
      "Epoch: 0 Loss: 3.178053855895996\n",
      "Epoch: 0 Loss: 3.178053855895996\n",
      "Epoch: 0 Loss: 3.178053855895996\n",
      "Epoch: 0 Loss: 3.178053855895996\n",
      "Epoch: 0 Loss: 3.178053855895996\n",
      "Epoch: 0 Loss: 3.178053855895996\n",
      "Epoch: 0 Loss: 3.178053855895996\n",
      "Epoch: 0 Loss: 3.178053855895996\n",
      "Epoch: 0 Loss: 3.178053855895996\n",
      "Epoch: 0 Loss: 3.178053855895996\n",
      "Epoch: 1 Loss: 3.178053855895996\n",
      "Epoch: 1 Loss: 3.178053855895996\n",
      "Epoch: 1 Loss: 3.178053855895996\n",
      "Epoch: 1 Loss: 3.178053855895996\n",
      "Epoch: 1 Loss: 3.178053855895996\n",
      "Epoch: 1 Loss: 3.178053855895996\n",
      "Epoch: 1 Loss: 3.178053855895996\n",
      "Epoch: 1 Loss: 3.178053855895996\n",
      "Epoch: 1 Loss: 3.178053855895996\n",
      "Epoch: 1 Loss: 3.178053855895996\n",
      "Epoch: 2 Loss: 3.178053855895996\n",
      "Epoch: 2 Loss: 3.178053855895996\n",
      "Epoch: 2 Loss: 3.178053855895996\n",
      "Epoch: 2 Loss: 3.178053855895996\n",
      "Epoch: 2 Loss: 3.178053855895996\n",
      "Epoch: 2 Loss: 3.178053855895996\n",
      "Epoch: 2 Loss: 3.178053855895996\n",
      "Epoch: 2 Loss: 3.178053855895996\n",
      "Epoch: 2 Loss: 3.178053855895996\n",
      "Epoch: 2 Loss: 3.178053855895996\n",
      "Epoch: 3 Loss: 3.178053855895996\n",
      "Epoch: 3 Loss: 3.178053855895996\n",
      "Epoch: 3 Loss: 3.178053855895996\n",
      "Epoch: 3 Loss: 3.178053855895996\n",
      "Epoch: 3 Loss: 3.178053855895996\n",
      "Epoch: 3 Loss: 3.178053855895996\n",
      "Epoch: 3 Loss: 3.178053855895996\n",
      "Epoch: 3 Loss: 3.178053855895996\n",
      "Epoch: 3 Loss: 3.178053855895996\n",
      "Epoch: 3 Loss: 3.178053855895996\n",
      "Epoch: 4 Loss: 3.178053855895996\n",
      "Epoch: 4 Loss: 3.178053855895996\n",
      "Epoch: 4 Loss: 3.178053855895996\n",
      "Epoch: 4 Loss: 3.178053855895996\n",
      "Epoch: 4 Loss: 3.178053855895996\n",
      "Epoch: 4 Loss: 3.178053855895996\n",
      "Epoch: 4 Loss: 3.178053855895996\n",
      "Epoch: 4 Loss: 3.178053855895996\n",
      "Epoch: 4 Loss: 3.178053855895996\n",
      "Epoch: 4 Loss: 3.178053855895996\n",
      "Epoch: 5 Loss: 3.178053855895996\n",
      "Epoch: 5 Loss: 3.178053855895996\n",
      "Epoch: 5 Loss: 3.178053855895996\n",
      "Epoch: 5 Loss: 3.178053855895996\n",
      "Epoch: 5 Loss: 3.178053855895996\n",
      "Epoch: 5 Loss: 3.178053855895996\n",
      "Epoch: 5 Loss: 3.178053855895996\n",
      "Epoch: 5 Loss: 3.178053855895996\n",
      "Epoch: 5 Loss: 3.178053855895996\n",
      "Epoch: 5 Loss: 3.178053855895996\n",
      "Epoch: 6 Loss: 3.178053855895996\n",
      "Epoch: 6 Loss: 3.178053855895996\n",
      "Epoch: 6 Loss: 3.178053855895996\n",
      "Epoch: 6 Loss: 3.178053855895996\n",
      "Epoch: 6 Loss: 3.178053855895996\n",
      "Epoch: 6 Loss: 3.178053855895996\n",
      "Epoch: 6 Loss: 3.178053855895996\n",
      "Epoch: 6 Loss: 3.178053855895996\n",
      "Epoch: 6 Loss: 3.178053855895996\n",
      "Epoch: 6 Loss: 3.178053855895996\n",
      "Epoch: 7 Loss: 3.178053855895996\n",
      "Epoch: 7 Loss: 3.178053855895996\n",
      "Epoch: 7 Loss: 3.178053855895996\n",
      "Epoch: 7 Loss: 3.178053855895996\n",
      "Epoch: 7 Loss: 3.178053855895996\n",
      "Epoch: 7 Loss: 3.178053855895996\n",
      "Epoch: 7 Loss: 3.178053855895996\n",
      "Epoch: 7 Loss: 3.178053855895996\n",
      "Epoch: 7 Loss: 3.178053855895996\n",
      "Epoch: 7 Loss: 3.178053855895996\n",
      "Epoch: 8 Loss: 3.178053855895996\n",
      "Epoch: 8 Loss: 3.178053855895996\n",
      "Epoch: 8 Loss: 3.178053855895996\n",
      "Epoch: 8 Loss: 3.178053855895996\n",
      "Epoch: 8 Loss: 3.178053855895996\n",
      "Epoch: 8 Loss: 3.178053855895996\n",
      "Epoch: 8 Loss: 3.178053855895996\n",
      "Epoch: 8 Loss: 3.178053855895996\n",
      "Epoch: 8 Loss: 3.178053855895996\n",
      "Epoch: 8 Loss: 3.178053855895996\n",
      "Epoch: 9 Loss: 3.178053855895996\n",
      "Epoch: 9 Loss: 3.178053855895996\n",
      "Epoch: 9 Loss: 3.178053855895996\n",
      "Epoch: 9 Loss: 3.178053855895996\n",
      "Epoch: 9 Loss: 3.178053855895996\n",
      "Epoch: 9 Loss: 3.178053855895996\n",
      "Epoch: 9 Loss: 3.178053855895996\n",
      "Epoch: 9 Loss: 3.178053855895996\n",
      "Epoch: 9 Loss: 3.178053855895996\n",
      "Epoch: 9 Loss: 3.178053855895996\n"
     ]
    }
   ],
   "source": [
    "model.train()\n",
    "#train the model\n",
    "for epoch in range(epochs):\n",
    "    \n",
    "    for batch_idx in range(len(X_train)):\n",
    "        #get data\n",
    "\n",
    "        #Adds one extra meaningless dimension to the tensor, so that it can be passed into the model\n",
    "        # dim = 0 makes it so it adds it to the front, -1 will add dimension to back\n",
    "        data = X_train[batch_idx].float().unsqueeze(dim = 0).to(device)\n",
    "        target = y_train[batch_idx].long().unsqueeze(dim = 0).to(device)\n",
    "        \n",
    "        #forward\n",
    "        output = model(data)\n",
    "        loss = criterion(output, target)\n",
    "        \n",
    "        #backward\n",
    "        optimizer.zero_grad()\n",
    "        loss.backward()\n",
    "        optimizer.step()\n",
    "        \n",
    "        if batch_idx % 100 == 0:\n",
    "            print(f\"Epoch: {epoch} Loss: {loss.item()}\")\n",
    "        \n",
    "    \n",
    "\n",
    "        \n",
    "    \n"
   ]
  },
  {
   "cell_type": "code",
   "execution_count": 49,
   "metadata": {},
   "outputs": [
    {
     "name": "stdout",
     "output_type": "stream",
     "text": [
      "Accuracy: 3.75\n"
     ]
    }
   ],
   "source": [
    "model.eval()\n",
    "#test the model\n",
    "with torch.no_grad():\n",
    "    correct = 0\n",
    "    total = 0\n",
    "    for batch_idx in range(len(X_test)):\n",
    "        data = X_test[batch_idx].float().unsqueeze(dim = 0).to(device)\n",
    "        target = y_test[batch_idx].long().unsqueeze(dim = 0).to(device)\n",
    "        \n",
    "        \n",
    "        output = model(data)\n",
    "        _, predicted = torch.max(output.data, 1)\n",
    "        \n",
    "        total += target.size(0)\n",
    "        correct += (predicted == target).sum().item()\n",
    "        \n",
    "    print(f\"Accuracy: {100*correct/total}\")\n"
   ]
  },
  {
   "cell_type": "code",
   "execution_count": 38,
   "metadata": {},
   "outputs": [
    {
     "name": "stdout",
     "output_type": "stream",
     "text": [
      "F1 score: 0.002710843373493976\n"
     ]
    },
    {
     "ename": "ZeroDivisionError",
     "evalue": "division by zero",
     "output_type": "error",
     "traceback": [
      "\u001b[1;31m---------------------------------------------------------------------------\u001b[0m",
      "\u001b[1;31mZeroDivisionError\u001b[0m                         Traceback (most recent call last)",
      "Cell \u001b[1;32mIn[38], line 25\u001b[0m\n\u001b[0;32m     22\u001b[0m y_pred \u001b[39m=\u001b[39m np\u001b[39m.\u001b[39mconcatenate(y_pred)\n\u001b[0;32m     24\u001b[0m \u001b[39mprint\u001b[39m(\u001b[39mf\u001b[39m\u001b[39m\"\u001b[39m\u001b[39mF1 score: \u001b[39m\u001b[39m{\u001b[39;00mf1_score(y_true,\u001b[39m \u001b[39my_pred,\u001b[39m \u001b[39maverage\u001b[39m=\u001b[39m\u001b[39m'\u001b[39m\u001b[39mweighted\u001b[39m\u001b[39m'\u001b[39m)\u001b[39m}\u001b[39;00m\u001b[39m\"\u001b[39m)\n\u001b[1;32m---> 25\u001b[0m \u001b[39mprint\u001b[39m(\u001b[39mf\u001b[39m\u001b[39m\"\u001b[39m\u001b[39mAccuracy: \u001b[39m\u001b[39m{\u001b[39;00m\u001b[39m100\u001b[39;49m\u001b[39m*\u001b[39;49mcorrect\u001b[39m/\u001b[39;49mtotal\u001b[39m}\u001b[39;00m\u001b[39m\"\u001b[39m)\n",
      "\u001b[1;31mZeroDivisionError\u001b[0m: division by zero"
     ]
    }
   ],
   "source": [
    "#f1score\n",
    "from sklearn.metrics import f1_score\n",
    "\n",
    "\n",
    "model.eval()\n",
    "\n",
    "y_true = []\n",
    "y_pred = []\n",
    "\n",
    "with torch.no_grad():\n",
    "    for batch_idx in range(len(X_test)):\n",
    "        data = X_test[batch_idx].float().unsqueeze(dim = 0).to(device)\n",
    "        target = y_test[batch_idx].long().unsqueeze(dim = 0).to(device)\n",
    "        \n",
    "        \n",
    "        output = model(data)\n",
    "        _, predicted = torch.max(output.data, 1)\n",
    "        \n",
    "        y_true.append(target.cpu().numpy())\n",
    "        y_pred.append(predicted.cpu().numpy())\n",
    "\n",
    "y_true = np.concatenate(y_true)\n",
    "y_pred = np.concatenate(y_pred)\n",
    "\n",
    "print(f\"F1 score: {f1_score(y_true, y_pred, average='weighted')}\")\n",
    "print(f\"Accuracy: {100*correct/total}\")\n",
    "\n"
   ]
  }
 ],
 "metadata": {
  "kernelspec": {
   "display_name": "Python 3",
   "language": "python",
   "name": "python3"
  },
  "language_info": {
   "codemirror_mode": {
    "name": "ipython",
    "version": 3
   },
   "file_extension": ".py",
   "mimetype": "text/x-python",
   "name": "python",
   "nbconvert_exporter": "python",
   "pygments_lexer": "ipython3",
   "version": "3.9.7"
  },
  "orig_nbformat": 4
 },
 "nbformat": 4,
 "nbformat_minor": 2
}
