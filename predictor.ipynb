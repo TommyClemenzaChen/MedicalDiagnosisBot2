{
 "cells": [
  {
   "cell_type": "code",
   "execution_count": null,
   "metadata": {},
   "outputs": [],
   "source": []
  },
  {
   "cell_type": "code",
   "execution_count": 1,
   "metadata": {},
   "outputs": [],
   "source": [
    "import torch\n",
    "import torch.nn as nn\n",
    "import torch.nn.functional as F\n",
    "import torch.optim as optim\n",
    "import numpy as np\n",
    "import pandas as pd\n",
    "\n"
   ]
  },
  {
   "cell_type": "code",
   "execution_count": 2,
   "metadata": {},
   "outputs": [
    {
     "name": "stdout",
     "output_type": "stream",
     "text": [
      "1200\n",
      "1200\n"
     ]
    }
   ],
   "source": [
    "#load data\n",
    "data = pd.read_csv('Symptom2Disease.csv')\n",
    "\n",
    "#seperate data into the text and label\n",
    "symptoms = data['text'].values\n",
    "diseases = data['label'].values\n",
    "\n",
    "print(len(symptoms))\n",
    "print(len(diseases))\n",
    "    \n"
   ]
  },
  {
   "cell_type": "code",
   "execution_count": 3,
   "metadata": {},
   "outputs": [
    {
     "name": "stdout",
     "output_type": "stream",
     "text": [
      "cuda:0\n"
     ]
    }
   ],
   "source": [
    "#connect to GPU\n",
    "device = torch.device(\"cuda:0\" if torch.cuda.is_available() else \"cpu\")\n",
    "print(device)"
   ]
  },
  {
   "cell_type": "code",
   "execution_count": 4,
   "metadata": {},
   "outputs": [
    {
     "name": "stderr",
     "output_type": "stream",
     "text": [
      "[nltk_data] Downloading package punkt to\n",
      "[nltk_data]     C:\\Users\\bobth\\AppData\\Roaming\\nltk_data...\n",
      "[nltk_data]   Package punkt is already up-to-date!\n",
      "[nltk_data] Downloading package stopwords to\n",
      "[nltk_data]     C:\\Users\\bobth\\AppData\\Roaming\\nltk_data...\n",
      "[nltk_data]   Package stopwords is already up-to-date!\n"
     ]
    },
    {
     "name": "stdout",
     "output_type": "stream",
     "text": [
      "['school', 'bag', 'lunch', 'books']\n",
      "\n",
      "Before: I have been experiencing a skin rash on my arms, legs, and torso for the past few weeks. It is red, itchy, and covered in dry, scaly patches.\n",
      "After: ['experiencing', 'skin', 'rash', 'arms', 'legs', 'torso', 'past', 'weeks', 'red', 'itchy', 'covered', 'dry', 'scaly', 'patches']\n"
     ]
    }
   ],
   "source": [
    "#tokenize data and pad them to equal sequences\n",
    "\n",
    "import nltk\n",
    "from nltk.tokenize import word_tokenize\n",
    "from nltk.corpus import stopwords\n",
    "\n",
    "nltk.download('punkt')\n",
    "nltk.download('stopwords')\n",
    "\n",
    "#turning it into a set suppositly makes it faster\n",
    "stopwords_set = set(stopwords.words())\n",
    "\n",
    "\n",
    "#Preprocess function will remove stopwords, punctuation, lowercase the text\n",
    "#Might add stemming and lemmatization later on\n",
    "def preprocess(text):\n",
    "\n",
    "    #lowercase\n",
    "    text = word_tokenize(text)\n",
    "\n",
    "    #remove stopwords and punctuation\n",
    "    processed_text = [word.lower() for word in text if not word.lower() in stopwords_set and word.isalpha()]\n",
    "    \n",
    "\n",
    "    return processed_text\n",
    "\n",
    "print(preprocess(\"I am going to SCHOOL. Where is my bag, lunch, and books?\"))\n",
    "print(f\"\\nBefore: {symptoms[0]}\")\n",
    "\n",
    "#preprcoess all data\n",
    "symptoms = [preprocess(text) for text in symptoms]\n",
    "\n",
    "print(f\"After: {symptoms[0]}\")\n"
   ]
  },
  {
   "cell_type": "code",
   "execution_count": 5,
   "metadata": {},
   "outputs": [
    {
     "name": "stdout",
     "output_type": "stream",
     "text": [
      "['experiencing', 'skin', 'rash', 'arms', 'legs', 'torso', 'past', 'weeks', 'red', 'itchy', 'covered', 'dry', 'scaly', 'patches']\n",
      "Encoded: [1, 2, 3, 4, 5, 6, 7, 8, 9, 10, 11, 12, 13, 14]\n"
     ]
    }
   ],
   "source": [
    "#imports\n",
    "from nltk.probability import FreqDist\n",
    "\n",
    "#Basically encoding the text\n",
    "\n",
    "#vocab creation\n",
    "word_frequency = FreqDist([word.lower() for text in symptoms for word in text])\n",
    "\n",
    "# Create the vocabulary by assigning a unique index to each word\n",
    "vocab = {word: idx+1 for idx, (word, _) in enumerate(word_frequency.items())}\n",
    "\n",
    "# encode text\n",
    "def encode(text, vocab):\n",
    "    encoded = []\n",
    "    for word in text:\n",
    "        encoded.append(vocab.get(word,0))\n",
    "    return encoded\n",
    "\n",
    "#encode all data\n",
    "print(symptoms[0])\n",
    "\n",
    "symptoms = [encode(text, vocab) for text in symptoms]\n",
    "\n",
    "\n",
    "print(f\"Encoded: {symptoms[0]}\")\n",
    "\n"
   ]
  },
  {
   "cell_type": "code",
   "execution_count": 6,
   "metadata": {},
   "outputs": [],
   "source": [
    "#pad sequences\n",
    "from torch.nn.utils.rnn import pad_sequence\n",
    "\n",
    "#pad sequences\n",
    "symptoms = pad_sequence([torch.tensor(text) for text in symptoms], batch_first=True)\n",
    "\n"
   ]
  },
  {
   "cell_type": "code",
   "execution_count": 7,
   "metadata": {},
   "outputs": [],
   "source": [
    "#encoding labels\n",
    "\n",
    "label_mapping = {label: i for i, label in enumerate(np.unique(diseases))}\n",
    "diseases = np.array([label_mapping[label] for label in diseases])\n",
    "\n"
   ]
  },
  {
   "cell_type": "code",
   "execution_count": 8,
   "metadata": {},
   "outputs": [
    {
     "name": "stdout",
     "output_type": "stream",
     "text": [
      "torch.Size([960, 25])\n",
      "torch.Size([240, 25])\n",
      "(960,)\n",
      "(240,)\n"
     ]
    }
   ],
   "source": [
    "#split data into train and test\n",
    "from sklearn.model_selection import train_test_split\n",
    "\n",
    "X_train, X_test, y_train, y_test = train_test_split(symptoms, diseases, test_size=0.2)\n",
    "\n",
    "print(X_train.shape)\n",
    "print(X_test.shape)\n",
    "print(y_train.shape)\n",
    "print(y_test.shape)\n"
   ]
  },
  {
   "cell_type": "code",
   "execution_count": 9,
   "metadata": {},
   "outputs": [
    {
     "name": "stdout",
     "output_type": "stream",
     "text": [
      "training text: torch.Size([960, 25])\n",
      "training labels: torch.Size([960])\n",
      "testing text: torch.Size([240, 25])\n",
      "testing labels: torch.Size([240])\n",
      "tensor([ 105,  329,  107,  386,  104,  331,  192,  272,  687, 1189,  326, 1159,\n",
      "         216,    0,    0,    0,    0,    0,    0,    0,    0,    0,    0,    0,\n",
      "           0])\n",
      "training text: torch.Size([30, 32, 25])\n",
      "training labels: torch.Size([30, 32, 1])\n",
      "testing text: torch.Size([7, 32, 25])\n",
      "testing labels: torch.Size([7, 32, 1])\n"
     ]
    },
    {
     "name": "stderr",
     "output_type": "stream",
     "text": [
      "C:\\Users\\bobth\\AppData\\Local\\Temp\\ipykernel_25516\\567756006.py:5: UserWarning: To copy construct from a tensor, it is recommended to use sourceTensor.clone().detach() or sourceTensor.clone().detach().requires_grad_(True), rather than torch.tensor(sourceTensor).\n",
      "  X_train = torch.tensor(X_train)\n",
      "C:\\Users\\bobth\\AppData\\Local\\Temp\\ipykernel_25516\\567756006.py:8: UserWarning: To copy construct from a tensor, it is recommended to use sourceTensor.clone().detach() or sourceTensor.clone().detach().requires_grad_(True), rather than torch.tensor(sourceTensor).\n",
      "  X_test = torch.tensor(X_test)\n"
     ]
    }
   ],
   "source": [
    "# #convert to tensors\n",
    "# print(X_train.dtype)\n",
    "# print(y_train.dtype)\n",
    "\n",
    "X_train = torch.tensor(X_train)\n",
    "y_train = torch.tensor(y_train)\n",
    "\n",
    "X_test = torch.tensor(X_test)\n",
    "y_test = torch.tensor(y_test)\n",
    " \n",
    "print(f\"training text: {X_train.shape}\")\n",
    "print(f\"training labels: {y_train.shape}\")\n",
    "\n",
    "print(f\"testing text: {X_test.shape}\")\n",
    "print(f\"testing labels: {y_test.shape}\")\n",
    "\n",
    "print(X_train[0])\n",
    "\n",
    "batch_size = 32\n",
    "\n",
    "# Reshape training data\n",
    "num_train_batches = X_train.shape[0] // batch_size\n",
    "X_train = X_train[:num_train_batches * batch_size]  # Trim the data to have a multiple of batch_size\n",
    "y_train = y_train[:num_train_batches * batch_size]  # Trim the labels accordingly\n",
    "X_train = X_train.view(num_train_batches, batch_size, -1)  # Reshape to (num_batches, batch_size, input_size)\n",
    "y_train = y_train.view(num_train_batches, batch_size, -1)  # Reshape labels similarly\n",
    "\n",
    "# Reshape testing data\n",
    "num_test_batches = X_test.shape[0] // batch_size\n",
    "X_test = X_test[:num_test_batches * batch_size]  # Trim the data to have a multiple of batch_size\n",
    "y_test = y_test[:num_test_batches * batch_size]  # Trim the labels accordingly\n",
    "X_test = X_test.view(num_test_batches, batch_size, -1)  # Reshape to (num_batches, batch_size, input_size)\n",
    "y_test = y_test.view(num_test_batches, batch_size, -1)  # Reshape labels similarly\n",
    "\n",
    "print(f\"training text: {X_train.shape}\")\n",
    "print(f\"training labels: {y_train.shape}\")\n",
    "\n",
    "print(f\"testing text: {X_test.shape}\")\n",
    "print(f\"testing labels: {y_test.shape}\")\n",
    "\n",
    "\n",
    "\n",
    "\n"
   ]
  },
  {
   "cell_type": "code",
   "execution_count": 10,
   "metadata": {},
   "outputs": [],
   "source": [
    "#create a simple fnn model that takes in the input size\n",
    "class FNN(nn.Module):\n",
    "    def __init__(self, input_size, hidden_size, output_size):\n",
    "        super(FNN, self).__init__()\n",
    "        self.fc1 = nn.Linear(input_size, hidden_size)\n",
    "        self.fc2 = nn.Linear(hidden_size, output_size)\n",
    "        self.relu = nn.ReLU()\n",
    "        self.softmax = nn.Softmax(dim=0)\n",
    "        \n",
    "    def forward(self, x):\n",
    "        out = self.fc1(x)\n",
    "        out = self.relu(out)\n",
    "        out = self.fc2(out)\n",
    "        out = self.softmax(out)\n",
    "        return out\n",
    "    \n",
    "#rnn model\n",
    "class RNN(nn.Module):\n",
    "    def __init__(self, input_size, hidden_size, output_size):\n",
    "        super(RNN, self).__init__()\n",
    "        self.rnn = nn.RNN(input_size, hidden_size, batch_first=True)\n",
    "        self.linear2 = nn.Linear(hidden_size, hidden_size)\n",
    "        self.linear = nn.Linear(hidden_size, output_size)\n",
    "        self.softmax = nn.Softmax(dim=1)\n",
    "        self.relu = nn.ReLU()\n",
    "        \n",
    "    def forward(self, x):\n",
    "        out = self.rnn(x)[0]\n",
    "        out = self.linear2(out)\n",
    "        out = self.relu(out)\n",
    "        out = self.linear2(out)\n",
    "        out = self.relu(out)\n",
    "        out = self.linear2(out)\n",
    "        out = self.relu(out)\n",
    "        out = self.linear(out)\n",
    "        out = self.softmax(out)\n",
    "        return out\n",
    "    \n",
    "#LSTM model\n",
    "class LSTM(nn.Module):\n",
    "    def __init__(self, input_size, hidden_size, output_size):\n",
    "        super(LSTM, self).__init__()\n",
    "        self.lstm = nn.LSTM(input_size, hidden_size, batch_first=True)\n",
    "        self.fc = nn.Linear(hidden_size, output_size)\n",
    "        self.softmax = nn.Softmax(dim=0)\n",
    "        \n",
    "    def forward(self, x):\n",
    "        out, _ = self.lstm(x)\n",
    "        out = self.fc(out[:, -1, :])\n",
    "        out = self.softmax(out)\n",
    "        return out\n",
    "    def predict(self, x):\n",
    "        out, _ = self.lstm(x)\n",
    "        out = self.fc(out[:, -1, :])\n",
    "        out = self.softmax(out)\n",
    "        return out\n",
    "    \n",
    "    \n",
    "\n",
    "\n"
   ]
  },
  {
   "attachments": {},
   "cell_type": "markdown",
   "metadata": {},
   "source": [
    "#### 24 represents the 24 unique diseases in the data set and 25 represents to length of each encoded vector\n"
   ]
  },
  {
   "cell_type": "code",
   "execution_count": 11,
   "metadata": {},
   "outputs": [
    {
     "name": "stdout",
     "output_type": "stream",
     "text": [
      "Input size: 25\n",
      "out size: 1\n"
     ]
    }
   ],
   "source": [
    "#define hyperparameters\n",
    "learning_rate = 1e-6\n",
    "epochs = 50\n",
    "\n",
    "input_size = X_train.shape[2]\n",
    "hidden_size = 10\n",
    "output_size = 1\n",
    "\n",
    "print(f\"Input size: {input_size}\")\n",
    "print(f\"out size: {output_size}\")\n",
    "\n",
    "\n"
   ]
  },
  {
   "cell_type": "code",
   "execution_count": 12,
   "metadata": {},
   "outputs": [
    {
     "data": {
      "text/plain": [
       "RNN(\n",
       "  (rnn): RNN(25, 10, batch_first=True)\n",
       "  (linear2): Linear(in_features=10, out_features=10, bias=True)\n",
       "  (linear): Linear(in_features=10, out_features=1, bias=True)\n",
       "  (softmax): Softmax(dim=1)\n",
       "  (relu): ReLU()\n",
       ")"
      ]
     },
     "execution_count": 12,
     "metadata": {},
     "output_type": "execute_result"
    }
   ],
   "source": [
    "model_num = 1\n",
    "model = None\n",
    "if(model_num == 0):\n",
    "    model = FNN(input_size, hidden_size, output_size)\n",
    "\n",
    "elif(model_num == 1):\n",
    "    #Reshape for RNN\n",
    "    model = RNN(input_size, hidden_size, output_size)\n",
    "\n",
    "\n",
    "model.to(device)"
   ]
  },
  {
   "cell_type": "code",
   "execution_count": 13,
   "metadata": {},
   "outputs": [],
   "source": [
    "criterion = nn.CrossEntropyLoss()\n",
    "optimizer = optim.Adam(model.parameters(), lr=learning_rate)"
   ]
  },
  {
   "attachments": {},
   "cell_type": "markdown",
   "metadata": {},
   "source": []
  },
  {
   "cell_type": "code",
   "execution_count": 14,
   "metadata": {},
   "outputs": [
    {
     "name": "stdout",
     "output_type": "stream",
     "text": [
      "torch.Size([32, 7, 25])\n",
      "torch.Size([32, 1])\n"
     ]
    },
    {
     "ename": "RuntimeError",
     "evalue": "CUDA error: CUBLAS_STATUS_ALLOC_FAILED when calling `cublasCreate(handle)`",
     "output_type": "error",
     "traceback": [
      "\u001b[1;31m---------------------------------------------------------------------------\u001b[0m",
      "\u001b[1;31mRuntimeError\u001b[0m                              Traceback (most recent call last)",
      "Cell \u001b[1;32mIn[14], line 31\u001b[0m\n\u001b[0;32m     29\u001b[0m \u001b[39m#backward pass\u001b[39;00m\n\u001b[0;32m     30\u001b[0m optimizer\u001b[39m.\u001b[39mzero_grad()\n\u001b[1;32m---> 31\u001b[0m loss\u001b[39m.\u001b[39;49mbackward()\n\u001b[0;32m     32\u001b[0m optimizer\u001b[39m.\u001b[39mstep()\n\u001b[0;32m     34\u001b[0m \u001b[39m#get the training accuracy\u001b[39;00m\n",
      "File \u001b[1;32mc:\\Users\\bobth\\Downloads\\lib\\site-packages\\torch\\_tensor.py:487\u001b[0m, in \u001b[0;36mTensor.backward\u001b[1;34m(self, gradient, retain_graph, create_graph, inputs)\u001b[0m\n\u001b[0;32m    477\u001b[0m \u001b[39mif\u001b[39;00m has_torch_function_unary(\u001b[39mself\u001b[39m):\n\u001b[0;32m    478\u001b[0m     \u001b[39mreturn\u001b[39;00m handle_torch_function(\n\u001b[0;32m    479\u001b[0m         Tensor\u001b[39m.\u001b[39mbackward,\n\u001b[0;32m    480\u001b[0m         (\u001b[39mself\u001b[39m,),\n\u001b[1;32m   (...)\u001b[0m\n\u001b[0;32m    485\u001b[0m         inputs\u001b[39m=\u001b[39minputs,\n\u001b[0;32m    486\u001b[0m     )\n\u001b[1;32m--> 487\u001b[0m torch\u001b[39m.\u001b[39;49mautograd\u001b[39m.\u001b[39;49mbackward(\n\u001b[0;32m    488\u001b[0m     \u001b[39mself\u001b[39;49m, gradient, retain_graph, create_graph, inputs\u001b[39m=\u001b[39;49minputs\n\u001b[0;32m    489\u001b[0m )\n",
      "File \u001b[1;32mc:\\Users\\bobth\\Downloads\\lib\\site-packages\\torch\\autograd\\__init__.py:200\u001b[0m, in \u001b[0;36mbackward\u001b[1;34m(tensors, grad_tensors, retain_graph, create_graph, grad_variables, inputs)\u001b[0m\n\u001b[0;32m    195\u001b[0m     retain_graph \u001b[39m=\u001b[39m create_graph\n\u001b[0;32m    197\u001b[0m \u001b[39m# The reason we repeat same the comment below is that\u001b[39;00m\n\u001b[0;32m    198\u001b[0m \u001b[39m# some Python versions print out the first line of a multi-line function\u001b[39;00m\n\u001b[0;32m    199\u001b[0m \u001b[39m# calls in the traceback and some print out the last line\u001b[39;00m\n\u001b[1;32m--> 200\u001b[0m Variable\u001b[39m.\u001b[39;49m_execution_engine\u001b[39m.\u001b[39;49mrun_backward(  \u001b[39m# Calls into the C++ engine to run the backward pass\u001b[39;49;00m\n\u001b[0;32m    201\u001b[0m     tensors, grad_tensors_, retain_graph, create_graph, inputs,\n\u001b[0;32m    202\u001b[0m     allow_unreachable\u001b[39m=\u001b[39;49m\u001b[39mTrue\u001b[39;49;00m, accumulate_grad\u001b[39m=\u001b[39;49m\u001b[39mTrue\u001b[39;49;00m)\n",
      "\u001b[1;31mRuntimeError\u001b[0m: CUDA error: CUBLAS_STATUS_ALLOC_FAILED when calling `cublasCreate(handle)`"
     ]
    }
   ],
   "source": [
    "model.train()\n",
    "#train the model\n",
    "\n",
    "#training accuracy\n",
    "correct = 0\n",
    "total = 0\n",
    "\n",
    "for epoch in range(epochs):\n",
    "    \n",
    "    for batch_idx in range(len(X_train)):\n",
    "        \n",
    "        #get the data\n",
    "        data = X_train[batch_idx].float().to(device)\n",
    "        target = y_train[batch_idx].long().to(device)\n",
    "\n",
    "        #add the extra dimension into data to make it 3d\n",
    "        # data format: [batch_size, seq_len, input_size]\n",
    "        data = data.unsqueeze(1).expand(-1, num_test_batches, -1)\n",
    "        \n",
    "        #forward pass\n",
    "        print(data.shape)\n",
    "        print(target.shape)\n",
    "        output = model(data)\n",
    "       \n",
    "        output = output[:, -1, :]\n",
    "\n",
    "        loss = criterion(output, target.squeeze(1))\n",
    "        \n",
    "        #backward pass\n",
    "        optimizer.zero_grad()\n",
    "        loss.backward()\n",
    "        optimizer.step()\n",
    "        \n",
    "        #get the training accuracy\n",
    "        _, predicted = torch.max(output.data, 1)\n",
    "        total += target.size(0)\n",
    "        print(predicted.shape)\n",
    "        print(target.shape)\n",
    "\n",
    "        correct += (predicted == target).sum().item()\n",
    "\n",
    "\n",
    "    if(epoch % 10 == 0):\n",
    "        print(f\"Epoch: {epoch+1}/{epochs}, Loss: {loss.item():.4f}, Accuracy: {100*correct/total:.2f}%\")\n",
    "\n",
    "        \n",
    "    \n",
    "\n",
    "\n",
    "\n",
    "\n",
    "\n",
    "    \n",
    "\n",
    "        \n",
    "    \n"
   ]
  },
  {
   "cell_type": "code",
   "execution_count": null,
   "metadata": {},
   "outputs": [
    {
     "name": "stdout",
     "output_type": "stream",
     "text": [
      "Test Accuracy: 3.57%\n"
     ]
    }
   ],
   "source": [
    "model.eval()\n",
    "#test the model\n",
    "correct = 0\n",
    "total = 0\n",
    "with torch.no_grad():\n",
    "    for batch_idx in range(len(X_test)):\n",
    "        \n",
    "        #get the data\n",
    "        data = X_test[batch_idx].to(device).float()\n",
    "        target = y_test[batch_idx].to(device).long()\n",
    "        \n",
    "        #forward pass\n",
    "        output = model(data)\n",
    "        loss = criterion(output, target.squeeze())\n",
    "        \n",
    "        #get the training accuracy\n",
    "        _, predicted = torch.max(output.data, 1)\n",
    "        total += target.size(0)\n",
    "        correct += (predicted == target.squeeze()).sum().item()\n",
    "    print(f\"Test Accuracy: {100*correct/total:.2f}%\")"
   ]
  },
  {
   "cell_type": "code",
   "execution_count": null,
   "metadata": {},
   "outputs": [
    {
     "name": "stdout",
     "output_type": "stream",
     "text": [
      "F1 score: 0.005624027761158311\n",
      "F1 score: 0.03571428571428571\n",
      "F1 score: 0.0068088770748217925\n",
      "F1 score: [0.         0.         0.         0.         0.         0.03278689\n",
      " 0.10218978 0.         0.         0.         0.         0.\n",
      " 0.         0.         0.         0.         0.         0.\n",
      " 0.         0.         0.         0.         0.         0.        ]\n"
     ]
    }
   ],
   "source": [
    "#f1score\n",
    "from sklearn.metrics import f1_score\n",
    "y_true = []\n",
    "y_pred = []\n",
    "with torch.no_grad():\n",
    "    for batch_idx in range(len(X_test)):\n",
    "        data = X_test[batch_idx].float().to(device)\n",
    "        target = y_test[batch_idx].long().to(device)\n",
    "        \n",
    "        output = model(data)\n",
    "        _, predicted = torch.max(output.data, 1)\n",
    "        y_true.extend(target.squeeze().tolist())\n",
    "        y_pred.extend(predicted.tolist())\n",
    "\n",
    "print(f\"F1 score: {f1_score(y_true, y_pred, average='macro')}\")\n",
    "print(f\"F1 score: {f1_score(y_true, y_pred, average='micro')}\")\n",
    "print(f\"F1 score: {f1_score(y_true, y_pred, average='weighted')}\")\n",
    "print(f\"F1 score: {f1_score(y_true, y_pred, average=None)}\")\n",
    "\n",
    "\n"
   ]
  }
 ],
 "metadata": {
  "kernelspec": {
   "display_name": "Python 3",
   "language": "python",
   "name": "python3"
  },
  "language_info": {
   "codemirror_mode": {
    "name": "ipython",
    "version": 3
   },
   "file_extension": ".py",
   "mimetype": "text/x-python",
   "name": "python",
   "nbconvert_exporter": "python",
   "pygments_lexer": "ipython3",
   "version": "3.9.7"
  },
  "orig_nbformat": 4
 },
 "nbformat": 4,
 "nbformat_minor": 2
}
